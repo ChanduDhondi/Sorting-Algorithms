{
 "cells": [
  {
   "cell_type": "markdown",
   "id": "3d702b5f-18d7-4e5f-8938-2167d83e95b2",
   "metadata": {},
   "source": [
    "# Sorting Algorithms using Python"
   ]
  },
  {
   "cell_type": "code",
   "execution_count": 1,
   "id": "ea27dd42-5677-4bc5-ab6d-b5287cd22aa3",
   "metadata": {},
   "outputs": [],
   "source": [
    "# Array of intergers\n",
    "\n",
    "arr = [10, 5, -3, 0, -5, 2, 5, 1]"
   ]
  },
  {
   "cell_type": "markdown",
   "id": "e1c1a026",
   "metadata": {},
   "source": [
    "## Bubble Sort"
   ]
  },
  {
   "cell_type": "code",
   "execution_count": 2,
   "id": "94955dec",
   "metadata": {
    "vscode": {
     "languageId": "plaintext"
    }
   },
   "outputs": [],
   "source": [
    "def bubble(arr):\n",
    "    n = len(arr)\n",
    "    swap = False\n",
    "\n",
    "    for i in range(n):\n",
    "        for j in range(0, n-i-1):\n",
    "            if arr[j] >= arr[j+1]:\n",
    "                arr[j], arr[j+1] = arr[j+1], arr[j]\n",
    "                swap = True\n",
    "        \n",
    "        if swap == False:\n",
    "            break"
   ]
  },
  {
   "cell_type": "code",
   "execution_count": 3,
   "id": "8d32c3ea-2a66-4447-9418-ed73cdd89224",
   "metadata": {},
   "outputs": [
    {
     "name": "stdout",
     "output_type": "stream",
     "text": [
      "-5 -3 0 1 2 5 5 10 "
     ]
    }
   ],
   "source": [
    "bubble(arr)\n",
    "\n",
    "for i in arr:\n",
    "    print(i, end=' ')"
   ]
  },
  {
   "cell_type": "markdown",
   "id": "d6884ea4-df14-432a-8d52-aa600120bacc",
   "metadata": {
    "vscode": {
     "languageId": "plaintext"
    }
   },
   "source": [
    "## Selection Sort"
   ]
  },
  {
   "cell_type": "code",
   "execution_count": 4,
   "id": "45098c6f-bfb0-4334-b9b3-6a830c172b77",
   "metadata": {},
   "outputs": [],
   "source": [
    "def selection(arr):\n",
    "    n = len(arr)\n",
    "    \n",
    "    for i in range(0,n-1):\n",
    "        min = i\n",
    "        for j in range(i+1,n):\n",
    "            if  arr[j] <= arr[min]:\n",
    "                min = j\n",
    "        arr[i], arr[min] = arr[min], arr[i]"
   ]
  },
  {
   "cell_type": "code",
   "execution_count": 5,
   "id": "d9943cfc-cdfd-4042-9e1d-dbd3e5ebe634",
   "metadata": {},
   "outputs": [
    {
     "name": "stdout",
     "output_type": "stream",
     "text": [
      "-5 -3 0 1 2 5 5 10 "
     ]
    }
   ],
   "source": [
    "selection(arr)\n",
    "\n",
    "for i in arr:\n",
    "    print(i, end=' ')"
   ]
  },
  {
   "cell_type": "markdown",
   "id": "14faf8cf-bbfa-4990-9d52-f9d488b69658",
   "metadata": {},
   "source": [
    "## Insertion Sort"
   ]
  },
  {
   "cell_type": "code",
   "execution_count": 12,
   "id": "e9f2d383-6e37-4721-946b-9ae0416e92f9",
   "metadata": {},
   "outputs": [],
   "source": [
    "def insertion(arr):\n",
    "    i = 1\n",
    "\n",
    "    while i < len(arr):\n",
    "        j = i-1\n",
    "        while j>=0 and arr[j] >= arr[j+1]:\n",
    "            arr[j+1], arr[j] = arr[j], arr[j+1]\n",
    "            j -= 1\n",
    "        i += 1"
   ]
  },
  {
   "cell_type": "code",
   "execution_count": 13,
   "id": "be261e1d-d396-41c6-8df4-89d7726c18f7",
   "metadata": {},
   "outputs": [
    {
     "name": "stdout",
     "output_type": "stream",
     "text": [
      "-3 0 1 2 5 5 10 10 "
     ]
    }
   ],
   "source": [
    "insertion(arr)\n",
    "\n",
    "for i in arr:\n",
    "    print(i, end=' ')"
   ]
  },
  {
   "cell_type": "markdown",
   "id": "3a321440-f452-4fcc-a0c6-97bdcbb367c5",
   "metadata": {},
   "source": [
    "## Merge Sort"
   ]
  },
  {
   "cell_type": "code",
   "execution_count": null,
   "id": "ee250217-deea-43d1-bbf5-99831de35dd8",
   "metadata": {},
   "outputs": [],
   "source": [
    "def mergeSort(arr):\n",
    "    if len(arr) > 1:\n",
    "        mid = len(arr) // 2\n",
    "\n",
    "        left_arr = arr[:mid]\n",
    "        right_arr = arr[mid:]\n",
    "\n",
    "        mergeSort(left_arr)\n",
    "        mergeSort(right_arr)\n",
    "        \n",
    "        i = 0\n",
    "        j = 0\n",
    "        k = 0\n",
    "\n",
    "        while i < len(left_arr) and j < len(right_arr):\n",
    "            if left_arr[i] < right_arr[j]:\n",
    "                arr[k] = left_arr[i]\n",
    "                i += 1 \n",
    "            else:\n",
    "                arr[k] = right_arr[j]\n",
    "                j += 1 \n",
    "            k += 1\n",
    "            \n",
    "        while i < len(left_arr):\n",
    "            arr[k] = left_arr[i]\n",
    "            i += 1\n",
    "            k += 1\n",
    "\n",
    "        while j < len(right_arr):\n",
    "            arr[k] = right_arr[j]\n",
    "            j += 1\n",
    "            k += 1"
   ]
  }
 ],
 "metadata": {
  "kernelspec": {
   "display_name": "Python 3 (ipykernel)",
   "language": "python",
   "name": "python3"
  },
  "language_info": {
   "codemirror_mode": {
    "name": "ipython",
    "version": 3
   },
   "file_extension": ".py",
   "mimetype": "text/x-python",
   "name": "python",
   "nbconvert_exporter": "python",
   "pygments_lexer": "ipython3",
   "version": "3.12.3"
  }
 },
 "nbformat": 4,
 "nbformat_minor": 5
}
